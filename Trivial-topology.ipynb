{
 "cells": [
  {
   "cell_type": "code",
   "execution_count": 23,
   "metadata": {
    "collapsed": false
   },
   "outputs": [],
   "source": [
    "import diagonalizer_trivial_topology\n",
    "from diagonalizer_trivial_topology import SimpleNamespace, diagonalize, pSweep, \\\n",
    "                                            spectrum_plot, FinalizedSystem_trivial\n",
    "import numpy as np\n",
    "from copy import copy\n",
    "from numpy import pi, cos, sin\n",
    "\n",
    "SitesCount_Default = 200\n",
    "fsysDefault = FinalizedSystem_trivial(SitesCount_Default)\n",
    "\n",
    "#The parameters are taken from the Qi-Zhang RevModPhys for Bi2Se3\n",
    "ParametersDefault = SimpleNamespace( Gap = 0.1,\\\n",
    "                     FermiEnergy = 0.0, lBinv2=0., x_shift= (SitesCount_Default - 1.)/2., \\\n",
    "                     EigenvectorsCount = 50, EnergyPrecision = 10**(-5), WavefunctionComponents = 2, \\\n",
    "                     py = 0., pz = 0. )"
   ]
  },
  {
   "cell_type": "markdown",
   "metadata": {},
   "source": [
    "# We see the gap (bulk gap, I expect) and NO surface states inside the bulk gap: why?"
   ]
  },
  {
   "cell_type": "code",
   "execution_count": 24,
   "metadata": {
    "collapsed": false
   },
   "outputs": [
    {
     "data": {
      "image/png": "[encoded data removed]",
      "text/plain": [
       "<matplotlib.figure.Figure at 0x7f21541e4208>"
      ]
     },
     "metadata": {},
     "output_type": "display_data"
    }
   ],
   "source": [
    "params = copy(ParametersDefault)\n",
    "params.pz = pi/2.\n",
    "evals, evecs = pSweep(fsysDefault, params, -0.3, 0.3, 20, 'pySweep')\n",
    "spectrum_plot(evals, -0.3, 0.3, 20)"
   ]
  },
  {
   "cell_type": "markdown",
   "metadata": {},
   "source": [
    "# Landau levels: level bending is ..."
   ]
  },
  {
   "cell_type": "code",
   "execution_count": 25,
   "metadata": {
    "collapsed": false
   },
   "outputs": [],
   "source": [
    "# params = copy(ParametersDefault)\n",
    "# params.lBinv2 = 1 / 20.**2\n",
    "# params.EigenvectorsCount = 40\n",
    "# pyMin = -0.6\n",
    "# pyMax = 0.6\n",
    "# pyCount = 50\n",
    "# evals, evecs = pSweep(fsysDefault, params, pyMin, pyMax, pyCount, 'pySweep')\n",
    "# plt = spectrum_plot(evals, pyMin, pyMax, pyCount, ShowPlot = False)\n",
    "# plt.ylim(-0.2,0.4)\n",
    "# plt.show()\n",
    "\n",
    "# pyMin = 0.3\n",
    "# pyMax = 0.6\n",
    "# pyCount = 80\n",
    "# evals, evecs = pSweep(fsysDefault, params, pyMin, pyMax, pyCount, 'pySweep')\n",
    "# plt = spectrum_plot(evals, pyMin, pyMax, pyCount, ShowPlot = False)\n",
    "# plt.ylim(-0.2,0.4)\n",
    "# plt.show()\n",
    "\n",
    "# del params, evals, evecs, pyMin, pyMax, pyCount, plt "
   ]
  },
  {
   "cell_type": "code",
   "execution_count": null,
   "metadata": {
    "collapsed": true
   },
   "outputs": [],
   "source": []
  }
 ],
 "metadata": {
  "kernelspec": {
   "display_name": "Python 3",
   "language": "python",
   "name": "python3"
  },
  "language_info": {
   "codemirror_mode": {
    "name": "ipython",
    "version": 3
   },
   "file_extension": ".py",
   "mimetype": "text/x-python",
   "name": "python",
   "nbconvert_exporter": "python",
   "pygments_lexer": "ipython3",
   "version": "3.6.0"
  }
 },
 "nbformat": 4,
 "nbformat_minor": 2
}
