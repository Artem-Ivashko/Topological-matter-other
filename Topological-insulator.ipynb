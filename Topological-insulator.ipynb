{
 "cells": [
  {
   "cell_type": "code",
   "execution_count": 17,
   "metadata": {
    "collapsed": false
   },
   "outputs": [],
   "source": [
    "import diagonalizer_TI\n",
    "from diagonalizer_TI import diagonalize, pSweep, spectrum_plot\n",
    "import numpy as np\n",
    "from copy import copy\n",
    "from numpy import pi, cos, sin\n",
    "\n",
    "SitesCount_XDefault = 400\n",
    "fsysDefault = diagonalizer_TI.FinalizedSystem(SitesCount_XDefault)\n",
    "\n",
    "#The parameters are taken from the Qi-Zhang RevModPhys for Bi2Se3\n",
    "ParametersDefault = diagonalizer_TI.SimpleNamespace( A1=2.26, A2=3.33, C =-0.0083, D1 =5.74, D2 =30.4, \\\n",
    "                                                    M0=0.28, B1 = 6.86, B2 = 44.5,\\\n",
    "                                                    FermiEnergy = 0.1, \\\n",
    "                     EigenvectorsCount = 50, EnergyPrecision = 10**(-5), WavefunctionComponents = 4, \\\n",
    "                     py = 0., pz = 0. )"
   ]
  },
  {
   "cell_type": "code",
   "execution_count": 18,
   "metadata": {
    "collapsed": false
   },
   "outputs": [
    {
     "data": {
      "image/png": "[encoded data removed]",
      "text/plain": [
       "<matplotlib.figure.Figure at 0x7efd64682710>"
      ]
     },
     "metadata": {},
     "output_type": "display_data"
    }
   ],
   "source": [
    "evals, evecs = pSweep(fsysDefault, ParametersDefault, -0.3, 0.3, 20, 'pzSweep')\n",
    "spectrum_plot(evals, -0.3, 0.3, 20)"
   ]
  },
  {
   "cell_type": "code",
   "execution_count": null,
   "metadata": {
    "collapsed": true
   },
   "outputs": [],
   "source": []
  }
 ],
 "metadata": {
  "kernelspec": {
   "display_name": "Python 3",
   "language": "python",
   "name": "python3"
  },
  "language_info": {
   "codemirror_mode": {
    "name": "ipython",
    "version": 3
   },
   "file_extension": ".py",
   "mimetype": "text/x-python",
   "name": "python",
   "nbconvert_exporter": "python",
   "pygments_lexer": "ipython3",
   "version": "3.6.0"
  }
 },
 "nbformat": 4,
 "nbformat_minor": 2
}
